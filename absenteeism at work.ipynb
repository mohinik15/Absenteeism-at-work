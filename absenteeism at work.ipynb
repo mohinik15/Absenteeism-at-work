{
 "cells": [
  {
   "cell_type": "markdown",
   "id": "c4d1524c",
   "metadata": {},
   "source": [
    "# Absenteeism at work project"
   ]
  },
  {
   "cell_type": "code",
   "execution_count": null,
   "id": "1d8473c0",
   "metadata": {},
   "outputs": [],
   "source": [
    "import pandas as pd\n",
    "import numpy as np\n",
    "import csv\n",
    "pd.set_option('display.max_columns', 380)\n",
    "pd.set_option('display.width', 140)\n",
    "pd.set_option('display.max_rows', 380)\n",
    "import seaborn as sns\n",
    "import matplotlib.pyplot as plt\n",
    "sns.set(style=\"ticks\", color_codes=True)\n",
    "%matplotlib inline"
   ]
  },
  {
   "cell_type": "code",
   "execution_count": null,
   "id": "e50c958a",
   "metadata": {},
   "outputs": [],
   "source": [
    "absent = pd.read_csv('F:/EdwisorProject2/Absenteeism_at_work_Project.csv')"
   ]
  },
  {
   "cell_type": "code",
   "execution_count": null,
   "id": "83272ada",
   "metadata": {},
   "outputs": [],
   "source": [
    "absent.head()"
   ]
  },
  {
   "cell_type": "code",
   "execution_count": null,
   "id": "5fe9a238",
   "metadata": {},
   "outputs": [],
   "source": [
    "absent.shape"
   ]
  },
  {
   "cell_type": "code",
   "execution_count": null,
   "id": "ef39cd4d",
   "metadata": {},
   "outputs": [],
   "source": [
    "absent.dtypes"
   ]
  },
  {
   "cell_type": "code",
   "execution_count": null,
   "id": "0338fa08",
   "metadata": {},
   "outputs": [],
   "source": [
    "absent.columns"
   ]
  },
  {
   "cell_type": "code",
   "execution_count": null,
   "id": "31700a2a",
   "metadata": {},
   "outputs": [],
   "source": [
    "absent.loc[:,'Work load Average/day '].head()"
   ]
  },
  {
   "cell_type": "code",
   "execution_count": null,
   "id": "d1f5f717",
   "metadata": {},
   "outputs": [],
   "source": [
    "absent['Work load Average/day '] = absent['Work load Average/day '].str.replace(',','')"
   ]
  },
  {
   "cell_type": "code",
   "execution_count": null,
   "id": "31f775a9",
   "metadata": {},
   "outputs": [],
   "source": [
    "absent['Work load Average/day ' ].head()"
   ]
  },
  {
   "cell_type": "markdown",
   "id": "26a56f84",
   "metadata": {},
   "source": [
    "# Removing observations with 'Absenteeism time in hours' equal to zero"
   ]
  },
  {
   "cell_type": "code",
   "execution_count": null,
   "id": "b6411d95",
   "metadata": {},
   "outputs": [],
   "source": [
    "absent = absent.loc[absent['Absenteeism time in hours']!= 0,:]"
   ]
  },
  {
   "cell_type": "code",
   "execution_count": null,
   "id": "49314348",
   "metadata": {},
   "outputs": [],
   "source": [
    "absent.shape"
   ]
  },
  {
   "cell_type": "markdown",
   "id": "a5c20715",
   "metadata": {},
   "source": [
    "# Missing values Analysis"
   ]
  },
  {
   "cell_type": "code",
   "execution_count": null,
   "id": "a9b93355",
   "metadata": {},
   "outputs": [],
   "source": [
    "absent.isnull().sum()"
   ]
  },
  {
   "cell_type": "code",
   "execution_count": null,
   "id": "5168af9b",
   "metadata": {},
   "outputs": [],
   "source": [
    "sns.catplot(x='Reason for absence', y=\"Absenteeism time in hours\", kind=\"box\", data=absent,height=7.5,aspect=12/7.5)"
   ]
  },
  {
   "cell_type": "code",
   "execution_count": null,
   "id": "5d927555",
   "metadata": {},
   "outputs": [],
   "source": [
    "absent.loc[absent['Reason for absence'].isnull(),'Reason for absence'] = 27"
   ]
  },
  {
   "cell_type": "code",
   "execution_count": null,
   "id": "cd674218",
   "metadata": {},
   "outputs": [],
   "source": [
    "absent.loc[absent['Reason for absence']==0,'Reason for absence'] = 26"
   ]
  },
  {
   "cell_type": "code",
   "execution_count": null,
   "id": "0c965ac1",
   "metadata": {},
   "outputs": [],
   "source": [
    "absent.isnull().sum()"
   ]
  },
  {
   "cell_type": "code",
   "execution_count": null,
   "id": "2780ce9a",
   "metadata": {},
   "outputs": [],
   "source": [
    "absent.loc[absent['Month of absence'].isnull(),'Month of absence'] = 10"
   ]
  },
  {
   "cell_type": "code",
   "execution_count": null,
   "id": "50fdb237",
   "metadata": {},
   "outputs": [],
   "source": [
    "absent.isnull().sum()"
   ]
  },
  {
   "cell_type": "code",
   "execution_count": null,
   "id": "3e66c8b3",
   "metadata": {},
   "outputs": [],
   "source": [
    "absent.loc[(absent['Transportation expense'].isnull()) & (absent['Distance from Residence to Work']==51),\\\n",
    "'Transportation expense'] = absent.loc[absent['Distance from Residence to Work']==51,'Transportation expense'].mode()[0]"
   ]
  },
  {
   "cell_type": "code",
   "execution_count": null,
   "id": "c72799db",
   "metadata": {},
   "outputs": [],
   "source": [
    "absent.loc[(absent['Transportation expense'].isnull()) & (absent['Distance from Residence to Work']==50),\\\n",
    "'Transportation expense'] = absent.loc[absent['Distance from Residence to Work']==50,'Transportation expense'].mode()[0]\n"
   ]
  },
  {
   "cell_type": "code",
   "execution_count": null,
   "id": "89d15f29",
   "metadata": {},
   "outputs": [],
   "source": [
    "absent.loc[(absent['Transportation expense'].isnull()) & (absent['Distance from Residence to Work']==52),\\\n",
    "'Transportation expense'] = absent.loc[absent['Distance from Residence to Work']==52,'Transportation expense'].mode()[0]"
   ]
  },
  {
   "cell_type": "code",
   "execution_count": null,
   "id": "eda619fb",
   "metadata": {},
   "outputs": [],
   "source": [
    "absent.loc[(absent['Transportation expense'].isnull()) & (absent['Distance from Residence to Work']==11),\\\n",
    "'Transportation expense'] = absent.loc[absent['Distance from Residence to Work']==11,'Transportation expense'].mode()[0]\n"
   ]
  },
  {
   "cell_type": "code",
   "execution_count": null,
   "id": "f247d381",
   "metadata": {},
   "outputs": [],
   "source": [
    "absent.loc[(absent['Transportation expense'].isnull()) & (absent['Distance from Residence to Work']==31),\\\n",
    "'Transportation expense'] = absent.loc[absent['Distance from Residence to Work']==31,'Transportation expense'].mode()[0]"
   ]
  },
  {
   "cell_type": "code",
   "execution_count": null,
   "id": "b478ff36",
   "metadata": {},
   "outputs": [],
   "source": [
    "absent.loc[(absent['Transportation expense'].isnull()) & (absent['ID']==22),\\\n",
    "'Transportation expense'] = absent.loc[absent['ID']==22,'Transportation expense'].mode()[0]"
   ]
  },
  {
   "cell_type": "code",
   "execution_count": null,
   "id": "bedbba4e",
   "metadata": {},
   "outputs": [],
   "source": [
    "absent.isnull().sum()"
   ]
  },
  {
   "cell_type": "code",
   "execution_count": null,
   "id": "b627cb4f",
   "metadata": {},
   "outputs": [],
   "source": [
    "absent.loc[(absent['Distance from Residence to Work'].isnull()) & (absent['ID']==34),\\\n",
    "'Distance from Residence to Work'] = absent.loc[absent['ID']==34,'Distance from Residence to Work'].mode()[0]"
   ]
  },
  {
   "cell_type": "code",
   "execution_count": null,
   "id": "8f96a86a",
   "metadata": {},
   "outputs": [],
   "source": [
    "absent.loc[(absent['Distance from Residence to Work'].isnull()) & (absent['ID']==22),\\\n",
    "'Distance from Residence to Work'] = absent.loc[absent['ID']==22,'Distance from Residence to Work'].mode()[0]"
   ]
  },
  {
   "cell_type": "code",
   "execution_count": null,
   "id": "29be0675",
   "metadata": {},
   "outputs": [],
   "source": [
    "absent.loc[(absent['Distance from Residence to Work'].isnull()) & (absent['ID']==28),\\\n",
    "'Distance from Residence to Work'] = absent.loc[absent['ID']==28,'Distance from Residence to Work'].mode()[0]"
   ]
  },
  {
   "cell_type": "code",
   "execution_count": null,
   "id": "28d601b0",
   "metadata": {},
   "outputs": [],
   "source": [
    "absent.isnull().sum()"
   ]
  },
  {
   "cell_type": "code",
   "execution_count": null,
   "id": "e2961e86",
   "metadata": {},
   "outputs": [],
   "source": [
    "absent.loc[(absent['Service time'].isnull()) & (absent['ID']==34),\\\n",
    "'Service time'] = absent.loc[absent['ID']==34,'Service time'].mode()[0]"
   ]
  },
  {
   "cell_type": "code",
   "execution_count": null,
   "id": "fc5e284f",
   "metadata": {},
   "outputs": [],
   "source": [
    "absent.loc[(absent['Service time'].isnull()) & (absent['ID']==28),\\\n",
    "'Service time'] = absent.loc[absent['ID']==28,'Service time'].mode()[0]"
   ]
  },
  {
   "cell_type": "code",
   "execution_count": null,
   "id": "a05c20d5",
   "metadata": {},
   "outputs": [],
   "source": [
    "absent.isnull().sum()"
   ]
  },
  {
   "cell_type": "code",
   "execution_count": null,
   "id": "c9cc4db1",
   "metadata": {},
   "outputs": [],
   "source": [
    "absent.loc[(absent['Age'].isnull()) & (absent['ID']==24),\\\n",
    "'Age'] = absent.loc[absent['ID']==24,'Age'].mode()[0]"
   ]
  },
  {
   "cell_type": "code",
   "execution_count": null,
   "id": "bb421e49",
   "metadata": {},
   "outputs": [],
   "source": [
    "absent.loc[(absent['Age'].isnull()) & (absent['ID']==28),\\\n",
    "'Age'] = absent.loc[absent['ID']==28,'Age'].mode()[0]"
   ]
  },
  {
   "cell_type": "code",
   "execution_count": null,
   "id": "0af2bc3c",
   "metadata": {},
   "outputs": [],
   "source": [
    "absent.columns"
   ]
  },
  {
   "cell_type": "code",
   "execution_count": null,
   "id": "b366c3be",
   "metadata": {},
   "outputs": [],
   "source": [
    "for i in [(9,92),(10,93),(11,93),(12,97),(1,95),(5,92)]:\n",
    "    absent.loc[((absent['Work load Average/day '].isnull()) & (absent['Month of absence']==i[0])) & (absent['Hit target']==i[1]),\\\n",
    "    'Work load Average/day '] = absent.loc[(absent['Month of absence']==i[0]) & (absent['Hit target']==i[1]),\\\n",
    "    'Work load Average/day '].mode()[0]"
   ]
  },
  {
   "cell_type": "code",
   "execution_count": null,
   "id": "5b9722fb",
   "metadata": {},
   "outputs": [],
   "source": [
    "absent.isnull().sum()"
   ]
  },
  {
   "cell_type": "code",
   "execution_count": null,
   "id": "fc99fc9d",
   "metadata": {},
   "outputs": [],
   "source": [
    "for i in [(11,'306345'),(12,'261306'),(1,'308593')]:\n",
    "    absent.loc[((absent['Hit target'].isnull()) & (absent['Month of absence']==i[0])) & (absent['Work load Average/day ']==i[1]),\\\n",
    "    'Hit target'] = absent.loc[(absent['Month of absence']==i[0]) & (absent['Work load Average/day ']==i[1]),\\\n",
    "    'Hit target'].mode()[0]"
   ]
  },
  {
   "cell_type": "code",
   "execution_count": null,
   "id": "93a6e53d",
   "metadata": {},
   "outputs": [],
   "source": [
    "absent.isnull().sum()"
   ]
  },
  {
   "cell_type": "code",
   "execution_count": null,
   "id": "e25e8e06",
   "metadata": {},
   "outputs": [],
   "source": [
    "absent.loc[absent['Disciplinary failure'].isnull(),'Disciplinary failure'] = 0"
   ]
  },
  {
   "cell_type": "code",
   "execution_count": null,
   "id": "6d86ccb9",
   "metadata": {},
   "outputs": [],
   "source": [
    "absent.isnull().sum()"
   ]
  },
  {
   "cell_type": "code",
   "execution_count": null,
   "id": "8b3bfcb4",
   "metadata": {},
   "outputs": [],
   "source": [
    "for i in [11,10,34,14,24]:\n",
    "    absent.loc[(absent['Education'].isnull()) & (absent['ID']==i),'Education'] = absent.loc[absent['ID']==i,'Education'].mode()[0]\n"
   ]
  },
  {
   "cell_type": "code",
   "execution_count": null,
   "id": "e526ffc5",
   "metadata": {},
   "outputs": [],
   "source": [
    "absent.isnull().sum()"
   ]
  },
  {
   "cell_type": "code",
   "execution_count": null,
   "id": "daaa9923",
   "metadata": {},
   "outputs": [],
   "source": [
    "# for i in [20,14,34,27,1]:\n",
    "    absent.loc[(absent['Son'].isnull()) & (absent['ID']==i),'Son'] = absent.loc[absent['ID']==i,'Son'].mode()[0]"
   ]
  },
  {
   "cell_type": "code",
   "execution_count": null,
   "id": "2b27071a",
   "metadata": {},
   "outputs": [],
   "source": [
    "absent.isnull().sum()"
   ]
  },
  {
   "cell_type": "code",
   "execution_count": null,
   "id": "8eb02f6c",
   "metadata": {},
   "outputs": [],
   "source": [
    "for i in [10,14,17]:\n",
    "    absent.loc[(absent['Social drinker'].isnull()) & (absent['ID']==i),'Social drinker'] = absent.loc[absent['ID']==i,'Social drinker'].mode()[0]"
   ]
  },
  {
   "cell_type": "code",
   "execution_count": null,
   "id": "51315650",
   "metadata": {},
   "outputs": [],
   "source": [
    "absent.isnull().sum()"
   ]
  },
  {
   "cell_type": "code",
   "execution_count": null,
   "id": "7bade75a",
   "metadata": {},
   "outputs": [],
   "source": [
    "for i in [34,1,11,15]:\n",
    "    absent.loc[(absent['Social smoker'].isnull()) & (absent['ID']==i),'Social smoker'] = absent.loc[absent['ID']==i,'Social smoker'].mode()[0]"
   ]
  },
  {
   "cell_type": "code",
   "execution_count": null,
   "id": "65377fa0",
   "metadata": {},
   "outputs": [],
   "source": [
    "absent.isnull().sum()"
   ]
  },
  {
   "cell_type": "code",
   "execution_count": null,
   "id": "25f722b0",
   "metadata": {},
   "outputs": [],
   "source": [
    "for i in [1,13]:\n",
    "    absent.loc[(absent['Pet'].isnull()) & (absent['ID']==i),'Pet'] = absent.loc[absent['ID']==i,'Pet'].mode()[0]"
   ]
  },
  {
   "cell_type": "code",
   "execution_count": null,
   "id": "718697bf",
   "metadata": {},
   "outputs": [],
   "source": [
    "for i in [27]:\n",
    "    absent.loc[(absent['Weight'].isnull()) & (absent['ID']==i),'Weight'] = absent.loc[absent['ID']==i,'Weight'].mode()[0]"
   ]
  },
  {
   "cell_type": "code",
   "execution_count": null,
   "id": "f51d97b6",
   "metadata": {},
   "outputs": [],
   "source": [
    "for i in [20,10,28,34,27,11,5,22,13,24,32]:\n",
    "    absent.loc[(absent['Height'].isnull()) & (absent['ID']==i),'Height'] = absent.loc[absent['ID']==i,'Height'].mode()[0]"
   ]
  },
  {
   "cell_type": "code",
   "execution_count": null,
   "id": "290efcfe",
   "metadata": {},
   "outputs": [],
   "source": [
    "for i in [3,24,11,30,2,19,34,28,13,36,14,20,18,17,15,22,5]:\n",
    "    absent.loc[(absent['Body mass index'].isnull()) & (absent['ID']==i),'Body mass index'] = absent.loc[absent['ID']==i,'Body mass index'].mode()[0]\n"
   ]
  },
  {
   "cell_type": "code",
   "execution_count": null,
   "id": "3b17afc1",
   "metadata": {},
   "outputs": [],
   "source": [
    "absent.isnull().sum()"
   ]
  },
  {
   "cell_type": "code",
   "execution_count": null,
   "id": "1ee032c7",
   "metadata": {},
   "outputs": [],
   "source": [
    "for i in [23,14,10,22,26,6,28,11,13]:\n",
    "    absent.loc[(absent['Absenteeism time in hours'].isnull()) & (absent['Reason for absence']==i),'Absenteeism time in hours'] = absent.loc[absent['Reason for absence']==i,'Absenteeism time in hours'].median()\n"
   ]
  },
  {
   "cell_type": "code",
   "execution_count": null,
   "id": "8f493a3c",
   "metadata": {},
   "outputs": [],
   "source": [
    "absent.isnull().sum()"
   ]
  },
  {
   "cell_type": "markdown",
   "id": "02816c74",
   "metadata": {},
   "source": [
    "# All missing values have been imputed."
   ]
  },
  {
   "cell_type": "code",
   "execution_count": null,
   "id": "3d1c2e6e",
   "metadata": {},
   "outputs": [],
   "source": [
    "absent.dtypes"
   ]
  },
  {
   "cell_type": "code",
   "execution_count": null,
   "id": "14ba1a5e",
   "metadata": {},
   "outputs": [],
   "source": [
    "absent['Work load Average/day '] = absent['Work load Average/day '].astype('int')"
   ]
  },
  {
   "cell_type": "markdown",
   "id": "c5137e3c",
   "metadata": {},
   "source": [
    "# Continuous Variables Distributions\n"
   ]
  },
  {
   "cell_type": "code",
   "execution_count": null,
   "id": "1f6d46fa",
   "metadata": {},
   "outputs": [],
   "source": [
    "sns.distplot(absent['Transportation expense'])"
   ]
  },
  {
   "cell_type": "code",
   "execution_count": null,
   "id": "5c2c2272",
   "metadata": {},
   "outputs": [],
   "source": [
    "sns.distplot(absent['Distance from Residence to Work'])"
   ]
  },
  {
   "cell_type": "code",
   "execution_count": null,
   "id": "3832303c",
   "metadata": {},
   "outputs": [],
   "source": [
    "sns.distplot(absent['Service time'])"
   ]
  },
  {
   "cell_type": "code",
   "execution_count": null,
   "id": "627f35d9",
   "metadata": {},
   "outputs": [],
   "source": [
    "sns.distplot(absent['Age'])"
   ]
  },
  {
   "cell_type": "code",
   "execution_count": null,
   "id": "32f9ad32",
   "metadata": {},
   "outputs": [],
   "source": [
    "sns.distplot(absent['Work load Average/day '])"
   ]
  },
  {
   "cell_type": "code",
   "execution_count": null,
   "id": "d4cf63de",
   "metadata": {},
   "outputs": [],
   "source": [
    "sns.distplot(absent['Hit target'])"
   ]
  },
  {
   "cell_type": "code",
   "execution_count": null,
   "id": "e44babcc",
   "metadata": {},
   "outputs": [],
   "source": [
    "sns.distplot(absent['Weight'])"
   ]
  },
  {
   "cell_type": "code",
   "execution_count": null,
   "id": "a82d7ad0",
   "metadata": {},
   "outputs": [],
   "source": [
    "sns.distplot(absent['Height'])"
   ]
  },
  {
   "cell_type": "code",
   "execution_count": null,
   "id": "d41f4a2c",
   "metadata": {},
   "outputs": [],
   "source": [
    "sns.distplot(absent['Body mass index'])"
   ]
  },
  {
   "cell_type": "markdown",
   "id": "93cde7e1",
   "metadata": {},
   "source": [
    "# All continuous variables have skewed distributions\n",
    "Outlier Analysis for continuous variables"
   ]
  },
  {
   "cell_type": "code",
   "execution_count": null,
   "id": "a811f2e8",
   "metadata": {},
   "outputs": [],
   "source": [
    "absent.columns"
   ]
  },
  {
   "cell_type": "code",
   "execution_count": null,
   "id": "5536e71b",
   "metadata": {},
   "outputs": [],
   "source": [
    "fig_size = plt.rcParams[\"figure.figsize\"]\n",
    "fig_size[0] = 13\n",
    "fig_size[1] = 8.5\n",
    "plt.rcParams[\"figure.figsize\"] = fig_size\n",
    "absent.boxplot(column=['Transportation expense','Distance from Residence to Work', 'Service time', 'Age','Hit target'])"
   ]
  },
  {
   "cell_type": "code",
   "execution_count": null,
   "id": "6ded9e6a",
   "metadata": {},
   "outputs": [],
   "source": [
    "absent.boxplot(column = ['Weight', 'Height', 'Body mass index','Absenteeism time in hours'])"
   ]
  },
  {
   "cell_type": "code",
   "execution_count": null,
   "id": "1feecf83",
   "metadata": {},
   "outputs": [],
   "source": [
    "absent.boxplot(column=['Work load Average/day '])"
   ]
  },
  {
   "cell_type": "code",
   "execution_count": null,
   "id": "734da894",
   "metadata": {},
   "outputs": [],
   "source": [
    "for i in ['Transportation expense','Service time','Age','Work load Average/day ','Hit target','Height',\\\n",
    "'Absenteeism time in hours']:\n",
    "    q75,q25 = np.percentile(absent.loc[:,i],[75,25])\n",
    "    iqr = q75-q25\n",
    "    min = q25-1.5*iqr\n",
    "    max = q75+1.5*iqr\n",
    "    absent.loc[absent[i] < min,i] = min\n",
    "    absent.loc[absent[i] > max,i] = max"
   ]
  },
  {
   "cell_type": "code",
   "execution_count": null,
   "id": "12507bf8",
   "metadata": {},
   "outputs": [],
   "source": [
    "absent.boxplot(column=['Transportation expense','Distance from Residence to Work', 'Service time', 'Age','Hit target'])"
   ]
  },
  {
   "cell_type": "code",
   "execution_count": null,
   "id": "9fff9902",
   "metadata": {},
   "outputs": [],
   "source": [
    "absent.boxplot(column = ['Weight', 'Height', 'Body mass index','Absenteeism time in hours'])"
   ]
  },
  {
   "cell_type": "code",
   "execution_count": null,
   "id": "6c23e9c0",
   "metadata": {},
   "outputs": [],
   "source": [
    "absent.boxplot(column=['Work load Average/day '])"
   ]
  },
  {
   "cell_type": "markdown",
   "id": "837c601b",
   "metadata": {},
   "source": [
    "# Correlation Analysis"
   ]
  },
  {
   "cell_type": "code",
   "execution_count": null,
   "id": "d0a1cc2c",
   "metadata": {},
   "outputs": [],
   "source": [
    "catcols = ['Reason for absence', 'Month of absence', 'Day of the week', 'Seasons','Disciplinary failure','Education',\\\n",
    "'Son', 'Social drinker', 'Social smoker', 'Pet']\n"
   ]
  },
  {
   "cell_type": "code",
   "execution_count": null,
   "id": "dfa66419",
   "metadata": {},
   "outputs": [],
   "source": [
    "for i in catcols:\n",
    "    absent[i] = absent[i].astype('category')"
   ]
  },
  {
   "cell_type": "code",
   "execution_count": null,
   "id": "2ff90a70",
   "metadata": {},
   "outputs": [],
   "source": [
    "absent.dtypes"
   ]
  },
  {
   "cell_type": "code",
   "execution_count": null,
   "id": "df5a8435",
   "metadata": {},
   "outputs": [],
   "source": [
    "from scipy.stats import chi2_contingency"
   ]
  },
  {
   "cell_type": "code",
   "execution_count": null,
   "id": "58830456",
   "metadata": {},
   "outputs": [],
   "source": [
    "factors_paired = [(i,j) for i in catcols for j in catcols] \n",
    "chi2, p_values =[], []\n",
    "for f in factors_paired:\n",
    "    if f[0] != f[1]:\n",
    "        chitest = chi2_contingency(pd.crosstab(absent[f[0]], absent[f[1]]))\n",
    "        chi2.append(chitest[0])\n",
    "        p_values.append(chitest[1])\n",
    "    else:\n",
    "        chi2.append(0)\n",
    "        p_values.append(0)\n",
    "\n",
    "p1 = np.array(p_values).reshape((10,10))\n",
    "p1 = pd.DataFrame(p1, index=catcols, columns=catcols)\n",
    "p1"
   ]
  },
  {
   "cell_type": "code",
   "execution_count": null,
   "id": "bb6fc4f7",
   "metadata": {},
   "outputs": [],
   "source": [
    "absent = absent.drop(['Seasons'],axis=1)"
   ]
  },
  {
   "cell_type": "code",
   "execution_count": null,
   "id": "3bd5551c",
   "metadata": {},
   "outputs": [],
   "source": [
    "contcols = ['Transportation expense','Distance from Residence to Work', 'Service time', 'Age', 'Work load Average/day ',\\\n",
    "'Hit target','Weight', 'Height', 'Body mass index']"
   ]
  },
  {
   "cell_type": "code",
   "execution_count": null,
   "id": "d77a37c6",
   "metadata": {},
   "outputs": [],
   "source": [
    "absent.loc[:,contcols].corr()"
   ]
  },
  {
   "cell_type": "markdown",
   "id": "d5ccd831",
   "metadata": {},
   "source": [
    "# Relationships of categorical independent variables with dependent variable"
   ]
  },
  {
   "cell_type": "code",
   "execution_count": null,
   "id": "9c9003f6",
   "metadata": {},
   "outputs": [],
   "source": [
    "def relationship(a,b):\n",
    "    df = absent.groupby(a)[b].sum()\n",
    "    df = df.reset_index()\n",
    "    df[b] = df[b]*100/sum(absent[b])\n",
    "    df = df.sort_values(by=['Absenteeism time in hours'])\n",
    "    print(df)\n",
    "    return df.plot.barh(x=a,y=b)"
   ]
  },
  {
   "cell_type": "code",
   "execution_count": null,
   "id": "63d102da",
   "metadata": {},
   "outputs": [],
   "source": [
    "relationship('Reason for absence','Absenteeism time in hours')"
   ]
  },
  {
   "cell_type": "code",
   "execution_count": null,
   "id": "04167b84",
   "metadata": {},
   "outputs": [],
   "source": [
    "relationship('Month of absence','Absenteeism time in hours')"
   ]
  },
  {
   "cell_type": "code",
   "execution_count": null,
   "id": "05c1fc35",
   "metadata": {},
   "outputs": [],
   "source": [
    "relationship('Day of the week','Absenteeism time in hours')"
   ]
  },
  {
   "cell_type": "code",
   "execution_count": null,
   "id": "815e63bc",
   "metadata": {},
   "outputs": [],
   "source": [
    "relationship('Education','Absenteeism time in hours')"
   ]
  },
  {
   "cell_type": "code",
   "execution_count": null,
   "id": "7da89b8c",
   "metadata": {},
   "outputs": [],
   "source": [
    "relationship('Son','Absenteeism time in hours')"
   ]
  },
  {
   "cell_type": "code",
   "execution_count": null,
   "id": "28b1d194",
   "metadata": {},
   "outputs": [],
   "source": [
    "relationship('Pet','Absenteeism time in hours')"
   ]
  },
  {
   "cell_type": "markdown",
   "id": "99a742e3",
   "metadata": {},
   "source": [
    "# Relationships of continuous independent variables with dependent variable"
   ]
  },
  {
   "cell_type": "code",
   "execution_count": null,
   "id": "93eaeb51",
   "metadata": {},
   "outputs": [],
   "source": [
    "cols1 = ['Transportation expense','Distance from Residence to Work', 'Service time', 'Age', 'Work load Average/day ',\\\n",
    "'Hit target','Weight', 'Height', 'Body mass index','Absenteeism time in hours']\n",
    "absent.loc[:,cols1].corr()"
   ]
  },
  {
   "cell_type": "markdown",
   "id": "d347ed96",
   "metadata": {},
   "source": [
    "# Forecasting absenteeism time in hours per month for 2011"
   ]
  },
  {
   "cell_type": "code",
   "execution_count": null,
   "id": "f7d01a4e",
   "metadata": {},
   "outputs": [],
   "source": [
    "absent.head()"
   ]
  },
  {
   "cell_type": "code",
   "execution_count": null,
   "id": "4711ada6",
   "metadata": {},
   "outputs": [],
   "source": [
    "monthly_absence = absent.groupby('Month of absence')['Absenteeism time in hours'].sum()\n",
    "monthly_absence"
   ]
  },
  {
   "cell_type": "code",
   "execution_count": null,
   "id": "a79c221d",
   "metadata": {},
   "outputs": [],
   "source": [
    "monthly_absence = monthly_absence.reset_index()\n",
    "monthly_absence"
   ]
  },
  {
   "cell_type": "code",
   "execution_count": null,
   "id": "da8619f7",
   "metadata": {},
   "outputs": [],
   "source": [
    "monthly_absence['absenteeism hours per month'] = monthly_absence['Absenteeism time in hours']/3"
   ]
  },
  {
   "cell_type": "code",
   "execution_count": null,
   "id": "a5c81ec4",
   "metadata": {},
   "outputs": [],
   "source": [
    "monthly_absence['Month of absence'] = monthly_absence['Month of absence'].astype('int')\n",
    "monthly_absence"
   ]
  },
  {
   "cell_type": "code",
   "execution_count": null,
   "id": "c072c32b",
   "metadata": {},
   "outputs": [],
   "source": [
    "monthly_absence = monthly_absence.set_index('Month of absence')"
   ]
  },
  {
   "cell_type": "code",
   "execution_count": null,
   "id": "afebb7a8",
   "metadata": {},
   "outputs": [],
   "source": [
    "monthly_absence = monthly_absence.drop(['Absenteeism time in hours'],axis=1)"
   ]
  },
  {
   "cell_type": "code",
   "execution_count": null,
   "id": "9d2c5532",
   "metadata": {},
   "outputs": [],
   "source": [
    "ts = monthly_absence['absenteeism hours per month']"
   ]
  },
  {
   "cell_type": "code",
   "execution_count": null,
   "id": "69395d71",
   "metadata": {},
   "outputs": [],
   "source": [
    "ts"
   ]
  },
  {
   "cell_type": "code",
   "execution_count": null,
   "id": "c4172ca9",
   "metadata": {},
   "outputs": [],
   "source": [
    "plt.plot(ts)"
   ]
  },
  {
   "cell_type": "code",
   "execution_count": null,
   "id": "4f97aaab",
   "metadata": {},
   "outputs": [],
   "source": [
    "from statsmodels.tsa.stattools import adfuller\n",
    "dftest = adfuller(ts,autolag='AIC')\n",
    "dfoutput = pd.Series(dftest[0:4], index=['Test Statistic','p-value','#Lags Used','Number of Observations Used'])\n",
    "for key,value in dftest[4].items():\n",
    "    dfoutput['Critical Value (%s)'%key] = value\n",
    "dfoutput"
   ]
  },
  {
   "cell_type": "code",
   "execution_count": null,
   "id": "f8467fba",
   "metadata": {},
   "outputs": [],
   "source": [
    "ts_log = np.log(ts)"
   ]
  },
  {
   "cell_type": "code",
   "execution_count": null,
   "id": "02d2d734",
   "metadata": {},
   "outputs": [],
   "source": [
    "plt.plot(ts_log)"
   ]
  },
  {
   "cell_type": "code",
   "execution_count": null,
   "id": "d1c7e3ae",
   "metadata": {},
   "outputs": [],
   "source": [
    "ts_diff = ts_log - ts_log.shift()"
   ]
  },
  {
   "cell_type": "code",
   "execution_count": null,
   "id": "86456f5f",
   "metadata": {},
   "outputs": [],
   "source": [
    "ts_diff "
   ]
  },
  {
   "cell_type": "code",
   "execution_count": null,
   "id": "d6ef56fc",
   "metadata": {},
   "outputs": [],
   "source": [
    "plt.plot(ts_diff)"
   ]
  },
  {
   "cell_type": "code",
   "execution_count": null,
   "id": "3f45fdbf",
   "metadata": {},
   "outputs": [],
   "source": [
    "ts_diff.fillna(0,inplace=True)"
   ]
  },
  {
   "cell_type": "code",
   "execution_count": null,
   "id": "e4c2ddc1",
   "metadata": {},
   "outputs": [],
   "source": [
    "dftest = adfuller(ts_diff)\n",
    "dfoutput = pd.Series(dftest[0:4], index=['Test Statistic','p-value','#Lags Used','Number of Observations Used'])\n",
    "for key,value in dftest[4].items():\n",
    "    dfoutput['Critical Value (%s)'%key] = value\n",
    "dfoutput"
   ]
  },
  {
   "cell_type": "code",
   "execution_count": null,
   "id": "8d094a46",
   "metadata": {},
   "outputs": [],
   "source": [
    "from statsmodels.tsa.stattools import acf, pacf\n",
    "lag_acf = acf(ts_diff, nlags=10)\n",
    "lag_pacf = pacf(ts_diff, nlags=10, method='ols')"
   ]
  },
  {
   "cell_type": "code",
   "execution_count": null,
   "id": "ca2f836f",
   "metadata": {},
   "outputs": [],
   "source": [
    "#Plot ACF: \n",
    "plt.subplot(121) \n",
    "plt.plot(lag_acf)\n",
    "plt.axhline(y=0,linestyle='--',color='gray')\n",
    "plt.axhline(y=-1.96/np.sqrt(len(ts_diff)),linestyle='--',color='gray')\n",
    "plt.axhline(y=1.96/np.sqrt(len(ts_diff)),linestyle='--',color='gray')\n",
    "plt.title('Autocorrelation Function')\n",
    "plt.tight_layout()"
   ]
  },
  {
   "cell_type": "code",
   "execution_count": null,
   "id": "20f59403",
   "metadata": {},
   "outputs": [],
   "source": [
    "#Plot PACF:\n",
    "plt.subplot(122)\n",
    "plt.plot(lag_pacf)\n",
    "plt.axhline(y=0,linestyle='--',color='gray')\n",
    "plt.axhline(y=-1.96/np.sqrt(len(ts_diff)),linestyle='--',color='gray')\n",
    "plt.axhline(y=1.96/np.sqrt(len(ts_diff)),linestyle='--',color='gray')\n",
    "plt.title('Partial Autocorrelation Function')\n",
    "plt.tight_layout()"
   ]
  },
  {
   "cell_type": "code",
   "execution_count": null,
   "id": "ce98212e",
   "metadata": {},
   "outputs": [],
   "source": [
    "from statsmodels.tsa.arima_model import ARIMA"
   ]
  },
  {
   "cell_type": "code",
   "execution_count": null,
   "id": "7d98d735",
   "metadata": {},
   "outputs": [],
   "source": [
    "model = ARIMA(ts_diff, order=(3, 0, 0))"
   ]
  },
  {
   "cell_type": "code",
   "execution_count": null,
   "id": "96323bcd",
   "metadata": {},
   "outputs": [],
   "source": [
    "results_AR = model.fit(disp=-1)"
   ]
  },
  {
   "cell_type": "code",
   "execution_count": null,
   "id": "cd35c820",
   "metadata": {},
   "outputs": [],
   "source": [
    "results_AR.fittedvalues"
   ]
  },
  {
   "cell_type": "code",
   "execution_count": null,
   "id": "07da9965",
   "metadata": {},
   "outputs": [],
   "source": [
    "plt.plot(ts_diff)\n",
    "plt.plot(results_AR.fittedvalues, color='red')"
   ]
  },
  {
   "cell_type": "code",
   "execution_count": null,
   "id": "025d1a5e",
   "metadata": {},
   "outputs": [],
   "source": [
    "RSS = (results_AR.fittedvalues-ts_diff)**2\n",
    "RSS.fillna(0,inplace=True)\n",
    "sum(RSS)"
   ]
  },
  {
   "cell_type": "code",
   "execution_count": null,
   "id": "9c10da6c",
   "metadata": {},
   "outputs": [],
   "source": [
    "preds = results_AR.predict(start=12,end=24)"
   ]
  },
  {
   "cell_type": "code",
   "execution_count": null,
   "id": "e81ece8b",
   "metadata": {},
   "outputs": [],
   "source": [
    "preds"
   ]
  },
  {
   "cell_type": "code",
   "execution_count": null,
   "id": "f49acbca",
   "metadata": {},
   "outputs": [],
   "source": [
    "preds = preds[1:]"
   ]
  },
  {
   "cell_type": "code",
   "execution_count": null,
   "id": "4c028439",
   "metadata": {},
   "outputs": [],
   "source": [
    "predictions_ARIMA_diff = preds"
   ]
  },
  {
   "cell_type": "code",
   "execution_count": null,
   "id": "47e821fb",
   "metadata": {},
   "outputs": [],
   "source": [
    "predictions_ARIMA_diff"
   ]
  },
  {
   "cell_type": "code",
   "execution_count": null,
   "id": "73d78ea5",
   "metadata": {},
   "outputs": [],
   "source": [
    " predictions_ARIMA_diff_cumsum = predictions_ARIMA_diff.cumsum()"
   ]
  },
  {
   "cell_type": "code",
   "execution_count": null,
   "id": "5dc2720a",
   "metadata": {},
   "outputs": [],
   "source": [
    "ts_diff"
   ]
  },
  {
   "cell_type": "code",
   "execution_count": null,
   "id": "0741c1a2",
   "metadata": {},
   "outputs": [],
   "source": [
    "predictions_ARIMA_diff_cumsum"
   ]
  },
  {
   "cell_type": "code",
   "execution_count": null,
   "id": "c3fe37da",
   "metadata": {},
   "outputs": [],
   "source": [
    "predictions_ARIMA_log = pd.Series(4.8, index=range(13,25))\n",
    "predictions_ARIMA_log\n",
    "predictions_ARIMA_log = predictions_ARIMA_log.add(predictions_ARIMA_diff_cumsum,fill_value=0)"
   ]
  },
  {
   "cell_type": "code",
   "execution_count": null,
   "id": "7ad82dd9",
   "metadata": {},
   "outputs": [],
   "source": [
    "sum(ts_log)/12"
   ]
  },
  {
   "cell_type": "code",
   "execution_count": null,
   "id": "6e4d10cb",
   "metadata": {},
   "outputs": [],
   "source": [
    "predictions_ARIMA_log"
   ]
  },
  {
   "cell_type": "code",
   "execution_count": null,
   "id": "7f09310c",
   "metadata": {},
   "outputs": [],
   "source": [
    "predictions_ARIMA = np.exp(predictions_ARIMA_log)"
   ]
  },
  {
   "cell_type": "code",
   "execution_count": null,
   "id": "88ac62f2",
   "metadata": {},
   "outputs": [],
   "source": [
    "predictions_ARIMA"
   ]
  },
  {
   "cell_type": "code",
   "execution_count": null,
   "id": "75b11ae2",
   "metadata": {},
   "outputs": [],
   "source": [
    "plt.plot(ts)\n",
    "plt.plot(predictions_ARIMA)"
   ]
  }
 ],
 "metadata": {
  "kernelspec": {
   "display_name": "Python 3 (ipykernel)",
   "language": "python",
   "name": "python3"
  },
  "language_info": {
   "codemirror_mode": {
    "name": "ipython",
    "version": 3
   },
   "file_extension": ".py",
   "mimetype": "text/x-python",
   "name": "python",
   "nbconvert_exporter": "python",
   "pygments_lexer": "ipython3",
   "version": "3.9.7"
  }
 },
 "nbformat": 4,
 "nbformat_minor": 5
}
